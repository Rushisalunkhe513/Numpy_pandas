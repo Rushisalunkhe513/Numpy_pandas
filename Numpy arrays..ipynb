{
 "cells": [
  {
   "cell_type": "code",
   "execution_count": 2,
   "id": "e9b0f537",
   "metadata": {},
   "outputs": [],
   "source": [
    "import numpy as np\n",
    "import pandas as pd"
   ]
  },
  {
   "cell_type": "markdown",
   "id": "379f0fc5",
   "metadata": {},
   "source": [
    "# Numpy Arrays."
   ]
  },
  {
   "cell_type": "code",
   "execution_count": 3,
   "id": "5fb59f28",
   "metadata": {},
   "outputs": [],
   "source": [
    "# we will be working mainly on arrays from numpy library."
   ]
  },
  {
   "cell_type": "code",
   "execution_count": 4,
   "id": "0eeb4282",
   "metadata": {},
   "outputs": [],
   "source": [
    "# we can create array by using list from pyhton"
   ]
  },
  {
   "cell_type": "code",
   "execution_count": 5,
   "id": "2eca0b46",
   "metadata": {},
   "outputs": [],
   "source": [
    "my_list = [21,3,1998]"
   ]
  },
  {
   "cell_type": "code",
   "execution_count": 6,
   "id": "6605adfd",
   "metadata": {},
   "outputs": [],
   "source": [
    "# my list is normal python list."
   ]
  },
  {
   "cell_type": "code",
   "execution_count": 7,
   "id": "28893b97",
   "metadata": {},
   "outputs": [],
   "source": [
    "# we can convert it into array by numpy"
   ]
  },
  {
   "cell_type": "code",
   "execution_count": 8,
   "id": "7e8969a3",
   "metadata": {},
   "outputs": [],
   "source": [
    "my_array = np.array(my_list)"
   ]
  },
  {
   "cell_type": "code",
   "execution_count": 9,
   "id": "a737a3da",
   "metadata": {},
   "outputs": [
    {
     "data": {
      "text/plain": [
       "array([  21,    3, 1998])"
      ]
     },
     "execution_count": 9,
     "metadata": {},
     "output_type": "execute_result"
    }
   ],
   "source": [
    "my_array"
   ]
  },
  {
   "cell_type": "code",
   "execution_count": 10,
   "id": "9ee0fb10",
   "metadata": {},
   "outputs": [],
   "source": [
    "# now lets see types of these two."
   ]
  },
  {
   "cell_type": "code",
   "execution_count": 12,
   "id": "f9650509",
   "metadata": {},
   "outputs": [
    {
     "data": {
      "text/plain": [
       "numpy.ndarray"
      ]
     },
     "execution_count": 12,
     "metadata": {},
     "output_type": "execute_result"
    }
   ],
   "source": [
    "type(my_array)"
   ]
  },
  {
   "cell_type": "code",
   "execution_count": 13,
   "id": "ebe0f2fd",
   "metadata": {},
   "outputs": [
    {
     "data": {
      "text/plain": [
       "list"
      ]
     },
     "execution_count": 13,
     "metadata": {},
     "output_type": "execute_result"
    }
   ],
   "source": [
    "type(my_list)"
   ]
  },
  {
   "cell_type": "code",
   "execution_count": 14,
   "id": "5aaddf03",
   "metadata": {},
   "outputs": [],
   "source": [
    "# see this two have diffrent types"
   ]
  },
  {
   "cell_type": "code",
   "execution_count": 15,
   "id": "2d7224cf",
   "metadata": {},
   "outputs": [],
   "source": [
    "# this is how we can create array."
   ]
  },
  {
   "cell_type": "code",
   "execution_count": 18,
   "id": "ca2ec190",
   "metadata": {},
   "outputs": [],
   "source": [
    "my_array_two = np.array([1,2,3])"
   ]
  },
  {
   "cell_type": "code",
   "execution_count": 19,
   "id": "ecbe9894",
   "metadata": {},
   "outputs": [
    {
     "data": {
      "text/plain": [
       "array([1, 2, 3])"
      ]
     },
     "execution_count": 19,
     "metadata": {},
     "output_type": "execute_result"
    }
   ],
   "source": [
    "my_array_two"
   ]
  },
  {
   "cell_type": "code",
   "execution_count": 20,
   "id": "71eff3f4",
   "metadata": {},
   "outputs": [],
   "source": [
    "# This is another way to create array using numpy."
   ]
  },
  {
   "cell_type": "code",
   "execution_count": 21,
   "id": "fb220d7e",
   "metadata": {},
   "outputs": [],
   "source": [
    "# now lets see dimenssion of this numpy array we just created."
   ]
  },
  {
   "cell_type": "code",
   "execution_count": 23,
   "id": "3a7fc952",
   "metadata": {},
   "outputs": [
    {
     "data": {
      "text/plain": [
       "1"
      ]
     },
     "execution_count": 23,
     "metadata": {},
     "output_type": "execute_result"
    }
   ],
   "source": [
    "# ndim(no of dimenssion [] gives no of dimenssion array have.)\n",
    "# for 1 dimenssion 1 [] will be given\n",
    "# for 2 dimenssion 2 [] will be given.\n",
    "my_array.ndim"
   ]
  },
  {
   "cell_type": "code",
   "execution_count": 24,
   "id": "e476dfd2",
   "metadata": {},
   "outputs": [],
   "source": [
    "# lets check with my_array_2nd dimenssion"
   ]
  },
  {
   "cell_type": "code",
   "execution_count": 25,
   "id": "1d048115",
   "metadata": {},
   "outputs": [
    {
     "data": {
      "text/plain": [
       "1"
      ]
     },
     "execution_count": 25,
     "metadata": {},
     "output_type": "execute_result"
    }
   ],
   "source": [
    "my_array_two.ndim"
   ]
  },
  {
   "cell_type": "code",
   "execution_count": 26,
   "id": "e0b96790",
   "metadata": {},
   "outputs": [],
   "source": [
    "# we can create 2d array like this"
   ]
  },
  {
   "cell_type": "code",
   "execution_count": 28,
   "id": "9c1341d4",
   "metadata": {},
   "outputs": [],
   "source": [
    "my_2d_array = np.array([[1,2,3]])"
   ]
  },
  {
   "cell_type": "code",
   "execution_count": 29,
   "id": "287ecb6b",
   "metadata": {},
   "outputs": [
    {
     "data": {
      "text/plain": [
       "array([[1, 2, 3]])"
      ]
     },
     "execution_count": 29,
     "metadata": {},
     "output_type": "execute_result"
    }
   ],
   "source": [
    "my_2d_array"
   ]
  },
  {
   "cell_type": "code",
   "execution_count": 30,
   "id": "01685872",
   "metadata": {},
   "outputs": [],
   "source": [
    "# lets check dimenssion of my_2d_array"
   ]
  },
  {
   "cell_type": "code",
   "execution_count": 31,
   "id": "a867fe17",
   "metadata": {},
   "outputs": [
    {
     "data": {
      "text/plain": [
       "2"
      ]
     },
     "execution_count": 31,
     "metadata": {},
     "output_type": "execute_result"
    }
   ],
   "source": [
    "my_2d_array.ndim"
   ]
  },
  {
   "cell_type": "code",
   "execution_count": 32,
   "id": "002a29ee",
   "metadata": {},
   "outputs": [],
   "source": [
    "# its 2 dimenssional"
   ]
  },
  {
   "cell_type": "code",
   "execution_count": 33,
   "id": "4e1ca94f",
   "metadata": {},
   "outputs": [],
   "source": [
    "# lets create 3 dimenssional arrayy"
   ]
  },
  {
   "cell_type": "code",
   "execution_count": 34,
   "id": "e83532d1",
   "metadata": {},
   "outputs": [],
   "source": [
    "my_3d_array = np.array([[[1,2,3]]])"
   ]
  },
  {
   "cell_type": "code",
   "execution_count": 35,
   "id": "d6730433",
   "metadata": {},
   "outputs": [
    {
     "data": {
      "text/plain": [
       "3"
      ]
     },
     "execution_count": 35,
     "metadata": {},
     "output_type": "execute_result"
    }
   ],
   "source": [
    "my_3d_array.ndim"
   ]
  },
  {
   "cell_type": "code",
   "execution_count": 36,
   "id": "cf193dcc",
   "metadata": {},
   "outputs": [],
   "source": [
    "# we can also create matrix."
   ]
  },
  {
   "cell_type": "code",
   "execution_count": 37,
   "id": "05d9d599",
   "metadata": {},
   "outputs": [],
   "source": [
    "my_matrix = np.array([[1,2,3],[4,5,6],[7,8,9]])"
   ]
  },
  {
   "cell_type": "code",
   "execution_count": 38,
   "id": "176cba40",
   "metadata": {},
   "outputs": [
    {
     "data": {
      "text/plain": [
       "array([[1, 2, 3],\n",
       "       [4, 5, 6],\n",
       "       [7, 8, 9]])"
      ]
     },
     "execution_count": 38,
     "metadata": {},
     "output_type": "execute_result"
    }
   ],
   "source": [
    "my_matrix"
   ]
  },
  {
   "cell_type": "code",
   "execution_count": 39,
   "id": "023d955f",
   "metadata": {},
   "outputs": [],
   "source": [
    "# this is called matrix with 3 rows and 3 columns. square matrix"
   ]
  },
  {
   "cell_type": "code",
   "execution_count": 40,
   "id": "fcc0fb85",
   "metadata": {},
   "outputs": [],
   "source": [
    "# lets create matrix of 2 rows and 3 col. 3d matrix"
   ]
  },
  {
   "cell_type": "code",
   "execution_count": 41,
   "id": "cb82f5f2",
   "metadata": {},
   "outputs": [],
   "source": [
    "my_3d_matrix = np.array([[[1,2,3,4],[5,6,7,8]]])"
   ]
  },
  {
   "cell_type": "code",
   "execution_count": 42,
   "id": "8d460ec9",
   "metadata": {},
   "outputs": [
    {
     "data": {
      "text/plain": [
       "3"
      ]
     },
     "execution_count": 42,
     "metadata": {},
     "output_type": "execute_result"
    }
   ],
   "source": [
    "my_3d_matrix.ndim"
   ]
  },
  {
   "cell_type": "code",
   "execution_count": 43,
   "id": "3b54f8ab",
   "metadata": {},
   "outputs": [
    {
     "data": {
      "text/plain": [
       "array([[[1, 2, 3, 4],\n",
       "        [5, 6, 7, 8]]])"
      ]
     },
     "execution_count": 43,
     "metadata": {},
     "output_type": "execute_result"
    }
   ],
   "source": [
    "my_3d_matrix"
   ]
  },
  {
   "cell_type": "code",
   "execution_count": 44,
   "id": "bf964a8a",
   "metadata": {},
   "outputs": [],
   "source": [
    "# sim we can do this with list provided to us."
   ]
  },
  {
   "cell_type": "code",
   "execution_count": 45,
   "id": "cc145f71",
   "metadata": {},
   "outputs": [],
   "source": [
    "my_list = [[1,2,3,4,5],[6,7,8,9,10]]\n",
    "my_list_array = np.array([my_list])"
   ]
  },
  {
   "cell_type": "code",
   "execution_count": 46,
   "id": "a43e19f6",
   "metadata": {},
   "outputs": [
    {
     "data": {
      "text/plain": [
       "array([[[ 1,  2,  3,  4,  5],\n",
       "        [ 6,  7,  8,  9, 10]]])"
      ]
     },
     "execution_count": 46,
     "metadata": {},
     "output_type": "execute_result"
    }
   ],
   "source": [
    "my_list_array"
   ]
  },
  {
   "cell_type": "code",
   "execution_count": 47,
   "id": "3462b937",
   "metadata": {},
   "outputs": [],
   "source": [
    "# this becam 3d array"
   ]
  },
  {
   "cell_type": "code",
   "execution_count": 48,
   "id": "a5443794",
   "metadata": {},
   "outputs": [],
   "source": [
    "my_list_array_2d =  np.array(my_list)"
   ]
  },
  {
   "cell_type": "code",
   "execution_count": 49,
   "id": "a88a6710",
   "metadata": {},
   "outputs": [
    {
     "data": {
      "text/plain": [
       "array([[ 1,  2,  3,  4,  5],\n",
       "       [ 6,  7,  8,  9, 10]])"
      ]
     },
     "execution_count": 49,
     "metadata": {},
     "output_type": "execute_result"
    }
   ],
   "source": [
    "my_list_array_2d"
   ]
  },
  {
   "cell_type": "markdown",
   "id": "2fb1a6d4",
   "metadata": {},
   "source": [
    "# another way to create array"
   ]
  },
  {
   "cell_type": "code",
   "execution_count": 50,
   "id": "7cf3a8fe",
   "metadata": {},
   "outputs": [],
   "source": [
    "# this numpy function similar to python range function."
   ]
  },
  {
   "cell_type": "code",
   "execution_count": 52,
   "id": "69c89855",
   "metadata": {},
   "outputs": [],
   "source": [
    "my_range_array = np.arange(1,21)"
   ]
  },
  {
   "cell_type": "code",
   "execution_count": 53,
   "id": "c7ffad21",
   "metadata": {},
   "outputs": [
    {
     "data": {
      "text/plain": [
       "array([ 1,  2,  3,  4,  5,  6,  7,  8,  9, 10, 11, 12, 13, 14, 15, 16, 17,\n",
       "       18, 19, 20])"
      ]
     },
     "execution_count": 53,
     "metadata": {},
     "output_type": "execute_result"
    }
   ],
   "source": [
    "my_range_array"
   ]
  },
  {
   "cell_type": "code",
   "execution_count": 54,
   "id": "71ccd4df",
   "metadata": {},
   "outputs": [],
   "source": [
    "# see this is how it will craete array. by taking 2 numbers 1 to 20."
   ]
  },
  {
   "cell_type": "code",
   "execution_count": 55,
   "id": "787fb9eb",
   "metadata": {},
   "outputs": [],
   "source": [
    "# lets create another one."
   ]
  },
  {
   "cell_type": "code",
   "execution_count": 56,
   "id": "8298314c",
   "metadata": {},
   "outputs": [],
   "source": [
    "my_top_10 = np.arange(1,11)"
   ]
  },
  {
   "cell_type": "code",
   "execution_count": 57,
   "id": "4b7ad51a",
   "metadata": {},
   "outputs": [
    {
     "data": {
      "text/plain": [
       "array([ 1,  2,  3,  4,  5,  6,  7,  8,  9, 10])"
      ]
     },
     "execution_count": 57,
     "metadata": {},
     "output_type": "execute_result"
    }
   ],
   "source": [
    "my_top_10"
   ]
  },
  {
   "cell_type": "code",
   "execution_count": 58,
   "id": "d740b532",
   "metadata": {},
   "outputs": [],
   "source": [
    "# this is how we can create array by np.arange"
   ]
  },
  {
   "cell_type": "code",
   "execution_count": 59,
   "id": "8de15165",
   "metadata": {},
   "outputs": [],
   "source": [
    "# if we want value from 0 to 100 in array,"
   ]
  },
  {
   "cell_type": "code",
   "execution_count": 60,
   "id": "72a25c6c",
   "metadata": {},
   "outputs": [
    {
     "data": {
      "text/plain": [
       "array([  0,   1,   2,   3,   4,   5,   6,   7,   8,   9,  10,  11,  12,\n",
       "        13,  14,  15,  16,  17,  18,  19,  20,  21,  22,  23,  24,  25,\n",
       "        26,  27,  28,  29,  30,  31,  32,  33,  34,  35,  36,  37,  38,\n",
       "        39,  40,  41,  42,  43,  44,  45,  46,  47,  48,  49,  50,  51,\n",
       "        52,  53,  54,  55,  56,  57,  58,  59,  60,  61,  62,  63,  64,\n",
       "        65,  66,  67,  68,  69,  70,  71,  72,  73,  74,  75,  76,  77,\n",
       "        78,  79,  80,  81,  82,  83,  84,  85,  86,  87,  88,  89,  90,\n",
       "        91,  92,  93,  94,  95,  96,  97,  98,  99, 100])"
      ]
     },
     "execution_count": 60,
     "metadata": {},
     "output_type": "execute_result"
    }
   ],
   "source": [
    "np.arange(0,101)"
   ]
  },
  {
   "cell_type": "code",
   "execution_count": 61,
   "id": "bed6489c",
   "metadata": {},
   "outputs": [],
   "source": [
    "# here you go"
   ]
  },
  {
   "cell_type": "code",
   "execution_count": 62,
   "id": "14d45b0c",
   "metadata": {},
   "outputs": [],
   "source": [
    "# sim like range function in python.\n",
    "# if we want to skip some of numbers from array we can give skip no, ex.(1,100,2)...so array will look like(1,3,5,7,9....)"
   ]
  },
  {
   "cell_type": "code",
   "execution_count": 63,
   "id": "943e3ac9",
   "metadata": {},
   "outputs": [
    {
     "data": {
      "text/plain": [
       "array([  0,   5,  10,  15,  20,  25,  30,  35,  40,  45,  50,  55,  60,\n",
       "        65,  70,  75,  80,  85,  90,  95, 100])"
      ]
     },
     "execution_count": 63,
     "metadata": {},
     "output_type": "execute_result"
    }
   ],
   "source": [
    "# lets see\n",
    "np.arange(0,101,5)"
   ]
  },
  {
   "cell_type": "code",
   "execution_count": 64,
   "id": "9fb9133f",
   "metadata": {},
   "outputs": [],
   "source": [
    "# see this is how we can create array by skipping some middle values."
   ]
  },
  {
   "cell_type": "markdown",
   "id": "c14ab42d",
   "metadata": {},
   "source": [
    "# Now we will create array of zero."
   ]
  },
  {
   "cell_type": "code",
   "execution_count": 65,
   "id": "108181cd",
   "metadata": {},
   "outputs": [
    {
     "data": {
      "text/plain": [
       "array([0., 0., 0.])"
      ]
     },
     "execution_count": 65,
     "metadata": {},
     "output_type": "execute_result"
    }
   ],
   "source": [
    "np.zeros(3)"
   ]
  },
  {
   "cell_type": "code",
   "execution_count": 66,
   "id": "618b3f09",
   "metadata": {},
   "outputs": [],
   "source": [
    "# so here we can see by np.zeroes we can give all value in array to be zero"
   ]
  },
  {
   "cell_type": "code",
   "execution_count": 67,
   "id": "5cd7380a",
   "metadata": {},
   "outputs": [],
   "source": [
    "# where 3 is no of columns"
   ]
  },
  {
   "cell_type": "code",
   "execution_count": 68,
   "id": "5f247795",
   "metadata": {},
   "outputs": [],
   "source": [
    "# lets create array of zeroes with 5 cols and 5 rows"
   ]
  },
  {
   "cell_type": "code",
   "execution_count": 69,
   "id": "932a2fbd",
   "metadata": {},
   "outputs": [
    {
     "data": {
      "text/plain": [
       "array([[0., 0., 0., 0., 0.],\n",
       "       [0., 0., 0., 0., 0.],\n",
       "       [0., 0., 0., 0., 0.],\n",
       "       [0., 0., 0., 0., 0.],\n",
       "       [0., 0., 0., 0., 0.]])"
      ]
     },
     "execution_count": 69,
     "metadata": {},
     "output_type": "execute_result"
    }
   ],
   "source": [
    "np.zeros((5,5))"
   ]
  },
  {
   "cell_type": "code",
   "execution_count": 73,
   "id": "c11a68d3",
   "metadata": {},
   "outputs": [],
   "source": [
    "# Now (5,5) first 5 will be no of rows and other 5 will be no of columns "
   ]
  },
  {
   "cell_type": "code",
   "execution_count": 74,
   "id": "c5937f34",
   "metadata": {},
   "outputs": [],
   "source": [
    "# lets create array of uneven size like 3 rows , 2 col"
   ]
  },
  {
   "cell_type": "code",
   "execution_count": 75,
   "id": "7ca22abe",
   "metadata": {},
   "outputs": [
    {
     "data": {
      "text/plain": [
       "array([[0., 0.],\n",
       "       [0., 0.],\n",
       "       [0., 0.]])"
      ]
     },
     "execution_count": 75,
     "metadata": {},
     "output_type": "execute_result"
    }
   ],
   "source": [
    "np.zeros((3,2))"
   ]
  },
  {
   "cell_type": "code",
   "execution_count": 76,
   "id": "2bb92bdd",
   "metadata": {},
   "outputs": [],
   "source": [
    "# sim lets create array of 5 rows and 2 cols"
   ]
  },
  {
   "cell_type": "code",
   "execution_count": 77,
   "id": "a492985d",
   "metadata": {},
   "outputs": [
    {
     "data": {
      "text/plain": [
       "array([[0., 0.],\n",
       "       [0., 0.],\n",
       "       [0., 0.],\n",
       "       [0., 0.],\n",
       "       [0., 0.]])"
      ]
     },
     "execution_count": 77,
     "metadata": {},
     "output_type": "execute_result"
    }
   ],
   "source": [
    "np.zeros((5,2))"
   ]
  },
  {
   "cell_type": "markdown",
   "id": "799790f3",
   "metadata": {},
   "source": [
    "# sim we can create array of ones"
   ]
  },
  {
   "cell_type": "code",
   "execution_count": 78,
   "id": "6cefe037",
   "metadata": {},
   "outputs": [
    {
     "data": {
      "text/plain": [
       "array([1., 1., 1.])"
      ]
     },
     "execution_count": 78,
     "metadata": {},
     "output_type": "execute_result"
    }
   ],
   "source": [
    "np.ones(3)"
   ]
  },
  {
   "cell_type": "code",
   "execution_count": 79,
   "id": "48b2f9b0",
   "metadata": {},
   "outputs": [],
   "source": [
    "# lets create array of ones with 5 rows and 2 cols"
   ]
  },
  {
   "cell_type": "code",
   "execution_count": 88,
   "id": "b31fdc5f",
   "metadata": {},
   "outputs": [
    {
     "data": {
      "text/plain": [
       "array([[1., 1.],\n",
       "       [1., 1.],\n",
       "       [1., 1.],\n",
       "       [1., 1.],\n",
       "       [1., 1.]])"
      ]
     },
     "execution_count": 88,
     "metadata": {},
     "output_type": "execute_result"
    }
   ],
   "source": [
    "# this is 2d array because of  we are writing brackets inside bracket((5,2))\n",
    "np.ones((5,2))"
   ]
  },
  {
   "cell_type": "code",
   "execution_count": 89,
   "id": "e53c9c5f",
   "metadata": {},
   "outputs": [],
   "source": [
    "# sim lets create array with 2 rows and 5 cols"
   ]
  },
  {
   "cell_type": "code",
   "execution_count": 91,
   "id": "983e0f50",
   "metadata": {},
   "outputs": [
    {
     "data": {
      "text/plain": [
       "array([[1., 1., 1., 1., 1.],\n",
       "       [1., 1., 1., 1., 1.]])"
      ]
     },
     "execution_count": 91,
     "metadata": {},
     "output_type": "execute_result"
    }
   ],
   "source": [
    "# 2d array\n",
    "np.ones((2,5))"
   ]
  },
  {
   "cell_type": "markdown",
   "id": "217e759a",
   "metadata": {},
   "source": [
    "# numpy linspace will return evenly spaced numbers between two values"
   ]
  },
  {
   "cell_type": "code",
   "execution_count": 92,
   "id": "8e1242bd",
   "metadata": {},
   "outputs": [],
   "source": [
    "# so, if we give 1,10 and we want 100 evenly spaced values then use(np.linspace(1,10,100))"
   ]
  },
  {
   "cell_type": "code",
   "execution_count": 93,
   "id": "565334a7",
   "metadata": {},
   "outputs": [
    {
     "data": {
      "text/plain": [
       "array([ 1.        ,  1.09090909,  1.18181818,  1.27272727,  1.36363636,\n",
       "        1.45454545,  1.54545455,  1.63636364,  1.72727273,  1.81818182,\n",
       "        1.90909091,  2.        ,  2.09090909,  2.18181818,  2.27272727,\n",
       "        2.36363636,  2.45454545,  2.54545455,  2.63636364,  2.72727273,\n",
       "        2.81818182,  2.90909091,  3.        ,  3.09090909,  3.18181818,\n",
       "        3.27272727,  3.36363636,  3.45454545,  3.54545455,  3.63636364,\n",
       "        3.72727273,  3.81818182,  3.90909091,  4.        ,  4.09090909,\n",
       "        4.18181818,  4.27272727,  4.36363636,  4.45454545,  4.54545455,\n",
       "        4.63636364,  4.72727273,  4.81818182,  4.90909091,  5.        ,\n",
       "        5.09090909,  5.18181818,  5.27272727,  5.36363636,  5.45454545,\n",
       "        5.54545455,  5.63636364,  5.72727273,  5.81818182,  5.90909091,\n",
       "        6.        ,  6.09090909,  6.18181818,  6.27272727,  6.36363636,\n",
       "        6.45454545,  6.54545455,  6.63636364,  6.72727273,  6.81818182,\n",
       "        6.90909091,  7.        ,  7.09090909,  7.18181818,  7.27272727,\n",
       "        7.36363636,  7.45454545,  7.54545455,  7.63636364,  7.72727273,\n",
       "        7.81818182,  7.90909091,  8.        ,  8.09090909,  8.18181818,\n",
       "        8.27272727,  8.36363636,  8.45454545,  8.54545455,  8.63636364,\n",
       "        8.72727273,  8.81818182,  8.90909091,  9.        ,  9.09090909,\n",
       "        9.18181818,  9.27272727,  9.36363636,  9.45454545,  9.54545455,\n",
       "        9.63636364,  9.72727273,  9.81818182,  9.90909091, 10.        ])"
      ]
     },
     "execution_count": 93,
     "metadata": {},
     "output_type": "execute_result"
    }
   ],
   "source": [
    "np.linspace(1,10,100)"
   ]
  },
  {
   "cell_type": "code",
   "execution_count": 94,
   "id": "46fa46ef",
   "metadata": {},
   "outputs": [],
   "source": [
    "# this is how we can get evenly spaced values."
   ]
  },
  {
   "cell_type": "code",
   "execution_count": 95,
   "id": "7e2d425f",
   "metadata": {},
   "outputs": [],
   "source": [
    "#lets get 10 evenly spaced values between 1,1000 "
   ]
  },
  {
   "cell_type": "code",
   "execution_count": 96,
   "id": "a2c2683a",
   "metadata": {},
   "outputs": [
    {
     "data": {
      "text/plain": [
       "array([   1.,  112.,  223.,  334.,  445.,  556.,  667.,  778.,  889.,\n",
       "       1000.])"
      ]
     },
     "execution_count": 96,
     "metadata": {},
     "output_type": "execute_result"
    }
   ],
   "source": [
    "np.linspace(1,1000,10)"
   ]
  },
  {
   "cell_type": "code",
   "execution_count": 99,
   "id": "c5e2a780",
   "metadata": {},
   "outputs": [],
   "source": [
    "# linspace for 1,10000"
   ]
  },
  {
   "cell_type": "code",
   "execution_count": 100,
   "id": "87809cb6",
   "metadata": {},
   "outputs": [
    {
     "data": {
      "text/plain": [
       "array([1.0000e+00, 1.1112e+04, 2.2223e+04, 3.3334e+04, 4.4445e+04,\n",
       "       5.5556e+04, 6.6667e+04, 7.7778e+04, 8.8889e+04, 1.0000e+05])"
      ]
     },
     "execution_count": 100,
     "metadata": {},
     "output_type": "execute_result"
    }
   ],
   "source": [
    "np.linspace(1,100000,10)"
   ]
  },
  {
   "cell_type": "markdown",
   "id": "662c5ffc",
   "metadata": {},
   "source": [
    "# we can also create diagonal matrix"
   ]
  },
  {
   "cell_type": "code",
   "execution_count": 101,
   "id": "3a42203b",
   "metadata": {},
   "outputs": [],
   "source": [
    "# use np.eye"
   ]
  },
  {
   "cell_type": "code",
   "execution_count": 102,
   "id": "59dba488",
   "metadata": {},
   "outputs": [
    {
     "data": {
      "text/plain": [
       "array([[1., 0., 0., 0., 0.],\n",
       "       [0., 1., 0., 0., 0.],\n",
       "       [0., 0., 1., 0., 0.],\n",
       "       [0., 0., 0., 1., 0.],\n",
       "       [0., 0., 0., 0., 1.]])"
      ]
     },
     "execution_count": 102,
     "metadata": {},
     "output_type": "execute_result"
    }
   ],
   "source": [
    "np.eye(5)"
   ]
  },
  {
   "cell_type": "code",
   "execution_count": 103,
   "id": "80ff4d34",
   "metadata": {},
   "outputs": [],
   "source": [
    "# np.eye(5) will create diagonal matrix of 5 rows and 5 columns"
   ]
  },
  {
   "cell_type": "code",
   "execution_count": 104,
   "id": "fa2340b1",
   "metadata": {},
   "outputs": [],
   "source": [
    "# lets create diagonal matrix of 3"
   ]
  },
  {
   "cell_type": "code",
   "execution_count": 105,
   "id": "171cdaf0",
   "metadata": {},
   "outputs": [
    {
     "data": {
      "text/plain": [
       "array([[1., 0., 0.],\n",
       "       [0., 1., 0.],\n",
       "       [0., 0., 1.]])"
      ]
     },
     "execution_count": 105,
     "metadata": {},
     "output_type": "execute_result"
    }
   ],
   "source": [
    "np.eye(3)"
   ]
  },
  {
   "cell_type": "code",
   "execution_count": 106,
   "id": "8472eb01",
   "metadata": {},
   "outputs": [],
   "source": [
    "# sim lets craete 10 diagonal matrix"
   ]
  },
  {
   "cell_type": "code",
   "execution_count": 107,
   "id": "2a521899",
   "metadata": {},
   "outputs": [
    {
     "data": {
      "text/plain": [
       "array([[1., 0., 0., 0., 0., 0., 0., 0., 0., 0.],\n",
       "       [0., 1., 0., 0., 0., 0., 0., 0., 0., 0.],\n",
       "       [0., 0., 1., 0., 0., 0., 0., 0., 0., 0.],\n",
       "       [0., 0., 0., 1., 0., 0., 0., 0., 0., 0.],\n",
       "       [0., 0., 0., 0., 1., 0., 0., 0., 0., 0.],\n",
       "       [0., 0., 0., 0., 0., 1., 0., 0., 0., 0.],\n",
       "       [0., 0., 0., 0., 0., 0., 1., 0., 0., 0.],\n",
       "       [0., 0., 0., 0., 0., 0., 0., 1., 0., 0.],\n",
       "       [0., 0., 0., 0., 0., 0., 0., 0., 1., 0.],\n",
       "       [0., 0., 0., 0., 0., 0., 0., 0., 0., 1.]])"
      ]
     },
     "execution_count": 107,
     "metadata": {},
     "output_type": "execute_result"
    }
   ],
   "source": [
    "np.eye(10)"
   ]
  },
  {
   "cell_type": "code",
   "execution_count": 108,
   "id": "660a7465",
   "metadata": {},
   "outputs": [],
   "source": [
    "# lets create 7 diagonal matrix"
   ]
  },
  {
   "cell_type": "code",
   "execution_count": 109,
   "id": "d7744dc7",
   "metadata": {},
   "outputs": [
    {
     "data": {
      "text/plain": [
       "array([[1., 0., 0., 0., 0., 0., 0.],\n",
       "       [0., 1., 0., 0., 0., 0., 0.],\n",
       "       [0., 0., 1., 0., 0., 0., 0.],\n",
       "       [0., 0., 0., 1., 0., 0., 0.],\n",
       "       [0., 0., 0., 0., 1., 0., 0.],\n",
       "       [0., 0., 0., 0., 0., 1., 0.],\n",
       "       [0., 0., 0., 0., 0., 0., 1.]])"
      ]
     },
     "execution_count": 109,
     "metadata": {},
     "output_type": "execute_result"
    }
   ],
   "source": [
    "np.eye(7)"
   ]
  },
  {
   "cell_type": "markdown",
   "id": "0a3b6575",
   "metadata": {},
   "source": [
    "# we can create array of random no by(np.random.rand(5))"
   ]
  },
  {
   "cell_type": "code",
   "execution_count": 110,
   "id": "0a48187a",
   "metadata": {},
   "outputs": [],
   "source": [
    "# lets see"
   ]
  },
  {
   "cell_type": "code",
   "execution_count": 111,
   "id": "9c388302",
   "metadata": {},
   "outputs": [
    {
     "data": {
      "text/plain": [
       "array([0.04195146, 0.08538367, 0.18472778, 0.21907132, 0.8238297 ,\n",
       "       0.76029486, 0.11774839, 0.76203812, 0.74976825, 0.1521259 ])"
      ]
     },
     "execution_count": 111,
     "metadata": {},
     "output_type": "execute_result"
    }
   ],
   "source": [
    "# this will take any 10 random didgits and craete 1d array\n",
    "np.random.rand(10)\n"
   ]
  },
  {
   "cell_type": "code",
   "execution_count": 112,
   "id": "6ac5d4e9",
   "metadata": {},
   "outputs": [],
   "source": [
    "# again lets create random values 2D array "
   ]
  },
  {
   "cell_type": "code",
   "execution_count": 113,
   "id": "12ae4fa0",
   "metadata": {},
   "outputs": [
    {
     "data": {
      "text/plain": [
       "array([[0.97831052, 0.74706189, 0.9833412 , 0.57401848, 0.9565724 ],\n",
       "       [0.67829136, 0.15735682, 0.1084636 , 0.90870508, 0.56383634],\n",
       "       [0.68743641, 0.55969097, 0.64982748, 0.46400622, 0.82773546],\n",
       "       [0.77738351, 0.15648103, 0.69138475, 0.71149894, 0.68556789],\n",
       "       [0.37124585, 0.69224729, 0.06224633, 0.736702  , 0.71064417]])"
      ]
     },
     "execution_count": 113,
     "metadata": {},
     "output_type": "execute_result"
    }
   ],
   "source": [
    "np.random.rand(5,5)"
   ]
  },
  {
   "cell_type": "code",
   "execution_count": 114,
   "id": "24a9d1a7",
   "metadata": {},
   "outputs": [],
   "source": [
    "# lets create 10 rows and 10 cols random values array"
   ]
  },
  {
   "cell_type": "code",
   "execution_count": 115,
   "id": "59688fc4",
   "metadata": {},
   "outputs": [
    {
     "data": {
      "text/plain": [
       "array([[3.87498800e-01, 7.00648248e-01, 1.80793769e-01, 4.02319838e-01,\n",
       "        1.19958677e-01, 5.99469027e-01, 3.52878090e-01, 8.23018547e-01,\n",
       "        5.02303169e-01, 9.24632193e-01],\n",
       "       [1.07239686e-01, 6.53303130e-01, 2.26409680e-01, 6.39742886e-01,\n",
       "        6.07454566e-01, 4.85133491e-01, 8.54495153e-01, 9.71649755e-01,\n",
       "        2.43113805e-01, 8.20376938e-01],\n",
       "       [8.08573522e-01, 1.96760592e-01, 4.29228652e-01, 9.83107055e-01,\n",
       "        9.10325469e-01, 1.64570788e-02, 8.39328495e-01, 1.69815318e-01,\n",
       "        5.70778093e-01, 7.73177764e-01],\n",
       "       [6.74096195e-01, 1.52652254e-04, 1.91114524e-01, 7.87383306e-01,\n",
       "        1.33542189e-01, 9.28283365e-01, 3.27540198e-01, 5.52001322e-01,\n",
       "        4.17076688e-01, 4.76935211e-01],\n",
       "       [8.25031324e-01, 2.81848622e-01, 6.16558029e-01, 2.30856638e-01,\n",
       "        2.33538975e-03, 1.41991903e-01, 8.12228015e-01, 2.68972179e-01,\n",
       "        9.09770003e-01, 8.47906445e-01],\n",
       "       [2.78339834e-01, 5.00044815e-01, 9.15098977e-01, 1.53501879e-03,\n",
       "        2.80690800e-01, 4.58126617e-01, 2.79996261e-01, 7.66472749e-01,\n",
       "        9.92189984e-01, 9.09656726e-01],\n",
       "       [2.03916580e-01, 7.69745419e-01, 1.62236470e-01, 8.47366300e-01,\n",
       "        6.71324636e-01, 6.91677592e-01, 8.83093453e-01, 3.90051798e-01,\n",
       "        5.83150092e-01, 5.88983455e-02],\n",
       "       [7.79695030e-01, 7.73297301e-02, 2.02487424e-01, 9.67731924e-01,\n",
       "        5.42883467e-01, 1.90846906e-01, 5.19759189e-02, 8.04268027e-01,\n",
       "        5.33318545e-01, 2.35783232e-01],\n",
       "       [6.26101658e-01, 7.10360781e-01, 4.31361926e-01, 9.37209722e-01,\n",
       "        1.46919606e-02, 5.75145064e-01, 4.69603167e-01, 5.78603671e-02,\n",
       "        7.67591175e-01, 6.79299062e-01],\n",
       "       [8.74045697e-01, 2.50449063e-01, 4.07412851e-01, 9.00274264e-01,\n",
       "        2.07444457e-01, 4.51514167e-02, 9.06697865e-02, 6.80046647e-01,\n",
       "        3.16259281e-01, 8.41606191e-01]])"
      ]
     },
     "execution_count": 115,
     "metadata": {},
     "output_type": "execute_result"
    }
   ],
   "source": [
    "np.random.rand(10,10)"
   ]
  },
  {
   "cell_type": "code",
   "execution_count": 116,
   "id": "620f6cb7",
   "metadata": {},
   "outputs": [],
   "source": [
    "# also we can get any 10 random integers from between any two numbers"
   ]
  },
  {
   "cell_type": "code",
   "execution_count": 118,
   "id": "a1ccb63d",
   "metadata": {},
   "outputs": [
    {
     "data": {
      "text/plain": [
       "72"
      ]
     },
     "execution_count": 118,
     "metadata": {},
     "output_type": "execute_result"
    }
   ],
   "source": [
    "# this will return  only one integer\n",
    "np.random.randint(100)"
   ]
  },
  {
   "cell_type": "code",
   "execution_count": 119,
   "id": "572c9467",
   "metadata": {},
   "outputs": [],
   "source": [
    "# to get multiple random no or array of random numbers"
   ]
  },
  {
   "cell_type": "code",
   "execution_count": 120,
   "id": "f2ae545f",
   "metadata": {},
   "outputs": [
    {
     "data": {
      "text/plain": [
       "array([ 9, 52, 31, 57, 95])"
      ]
     },
     "execution_count": 120,
     "metadata": {},
     "output_type": "execute_result"
    }
   ],
   "source": [
    "np.random.randint(1,100,5)"
   ]
  },
  {
   "cell_type": "code",
   "execution_count": 121,
   "id": "2cef5a57",
   "metadata": {},
   "outputs": [],
   "source": [
    "# now this will return array of random 5 no from 1,100"
   ]
  },
  {
   "cell_type": "code",
   "execution_count": 122,
   "id": "1b2798af",
   "metadata": {},
   "outputs": [],
   "source": [
    "# lets try to create 2d array."
   ]
  },
  {
   "cell_type": "code",
   "execution_count": 125,
   "id": "8bf008b8",
   "metadata": {},
   "outputs": [
    {
     "data": {
      "text/plain": [
       "array([  87,  297,    4, 3919])"
      ]
     },
     "execution_count": 125,
     "metadata": {},
     "output_type": "execute_result"
    }
   ],
   "source": [
    "# this will choose any random value from 10,100,1000,10000 when given in double (())\n",
    "np.random.randint((100,1000,10,10000))"
   ]
  },
  {
   "cell_type": "code",
   "execution_count": 127,
   "id": "ea94b0b9",
   "metadata": {},
   "outputs": [
    {
     "data": {
      "text/plain": [
       "array([730, 720, 654, 839, 900, 368, 667, 475, 306, 992])"
      ]
     },
     "execution_count": 127,
     "metadata": {},
     "output_type": "execute_result"
    }
   ],
   "source": [
    "# lets get array of random integers \n",
    "np.random.randint(100,1000,10)"
   ]
  },
  {
   "cell_type": "code",
   "execution_count": 128,
   "id": "d6fc69c7",
   "metadata": {},
   "outputs": [],
   "source": [
    "#  we can arrange array by np.arange(1,24)"
   ]
  },
  {
   "cell_type": "code",
   "execution_count": 129,
   "id": "894dcee2",
   "metadata": {},
   "outputs": [
    {
     "data": {
      "text/plain": [
       "array([ 1,  2,  3,  4,  5,  6,  7,  8,  9, 10, 11, 12, 13, 14, 15, 16, 17,\n",
       "       18, 19, 20, 21, 22, 23])"
      ]
     },
     "execution_count": 129,
     "metadata": {},
     "output_type": "execute_result"
    }
   ],
   "source": [
    "np.arange(1,24)"
   ]
  },
  {
   "cell_type": "code",
   "execution_count": 130,
   "id": "30f2aeed",
   "metadata": {},
   "outputs": [],
   "source": [
    "# lets create array from 0,100 with skip as 10"
   ]
  },
  {
   "cell_type": "code",
   "execution_count": 131,
   "id": "3fbfaf4f",
   "metadata": {},
   "outputs": [],
   "source": [
    "arr_100 = np.arange(1,100,5)"
   ]
  },
  {
   "cell_type": "code",
   "execution_count": 132,
   "id": "561324b0",
   "metadata": {},
   "outputs": [
    {
     "data": {
      "text/plain": [
       "array([ 1,  6, 11, 16, 21, 26, 31, 36, 41, 46, 51, 56, 61, 66, 71, 76, 81,\n",
       "       86, 91, 96])"
      ]
     },
     "execution_count": 132,
     "metadata": {},
     "output_type": "execute_result"
    }
   ],
   "source": [
    "arr_100"
   ]
  },
  {
   "cell_type": "code",
   "execution_count": 133,
   "id": "207ae81b",
   "metadata": {},
   "outputs": [],
   "source": [
    "# lets just get 10 random integer"
   ]
  },
  {
   "cell_type": "code",
   "execution_count": 134,
   "id": "24eed515",
   "metadata": {},
   "outputs": [
    {
     "data": {
      "text/plain": [
       "array([18, 44, 87, 50, 23, 68, 74, 14, 48, 77,  9, 61, 49, 47, 67, 69, 94,\n",
       "       73, 73, 20])"
      ]
     },
     "execution_count": 134,
     "metadata": {},
     "output_type": "execute_result"
    }
   ],
   "source": [
    "np.random.randint(1,100,20)"
   ]
  },
  {
   "cell_type": "markdown",
   "id": "e539e0e7",
   "metadata": {},
   "source": [
    "# we can use np.reshape to restructure our array"
   ]
  },
  {
   "cell_type": "code",
   "execution_count": 137,
   "id": "c962898b",
   "metadata": {},
   "outputs": [
    {
     "data": {
      "text/plain": [
       "array([[ 1,  6, 11, 16, 21],\n",
       "       [26, 31, 36, 41, 46],\n",
       "       [51, 56, 61, 66, 71],\n",
       "       [76, 81, 86, 91, 96]])"
      ]
     },
     "execution_count": 137,
     "metadata": {},
     "output_type": "execute_result"
    }
   ],
   "source": [
    "arr_100.reshape(4,5)"
   ]
  },
  {
   "cell_type": "code",
   "execution_count": 138,
   "id": "d390975f",
   "metadata": {},
   "outputs": [],
   "source": [
    "# this will creat array with size 4 rows and 5 cols"
   ]
  },
  {
   "cell_type": "code",
   "execution_count": 139,
   "id": "107cbbd5",
   "metadata": {},
   "outputs": [],
   "source": [
    "# lets resize array by using np.arange and np.reshape"
   ]
  },
  {
   "cell_type": "code",
   "execution_count": 143,
   "id": "bf61b649",
   "metadata": {},
   "outputs": [],
   "source": [
    "arr_34 = np.arange(0,100,10).reshape(2,5)"
   ]
  },
  {
   "cell_type": "code",
   "execution_count": 144,
   "id": "070304aa",
   "metadata": {},
   "outputs": [],
   "source": [
    "# this will give us 2 rows and 5 cols"
   ]
  },
  {
   "cell_type": "code",
   "execution_count": 145,
   "id": "899c1f36",
   "metadata": {},
   "outputs": [],
   "source": [
    "# we can use min,max,sum,mean to get values from array"
   ]
  },
  {
   "cell_type": "markdown",
   "id": "cb557e7f",
   "metadata": {},
   "source": [
    "#### "
   ]
  },
  {
   "cell_type": "code",
   "execution_count": 148,
   "id": "78b41aec",
   "metadata": {},
   "outputs": [],
   "source": [
    "# lets get min value from array\n"
   ]
  },
  {
   "cell_type": "code",
   "execution_count": 149,
   "id": "a42d34cc",
   "metadata": {},
   "outputs": [
    {
     "data": {
      "text/plain": [
       "0"
      ]
     },
     "execution_count": 149,
     "metadata": {},
     "output_type": "execute_result"
    }
   ],
   "source": [
    "arr_34.min()"
   ]
  },
  {
   "cell_type": "code",
   "execution_count": 150,
   "id": "7a46aedf",
   "metadata": {},
   "outputs": [],
   "source": [
    "#lets get max value from array"
   ]
  },
  {
   "cell_type": "code",
   "execution_count": 151,
   "id": "dadbf4e4",
   "metadata": {},
   "outputs": [
    {
     "data": {
      "text/plain": [
       "90"
      ]
     },
     "execution_count": 151,
     "metadata": {},
     "output_type": "execute_result"
    }
   ],
   "source": [
    "arr_34.max()"
   ]
  },
  {
   "cell_type": "code",
   "execution_count": 152,
   "id": "667bd4b0",
   "metadata": {},
   "outputs": [],
   "source": [
    "# lets get mean value from array"
   ]
  },
  {
   "cell_type": "code",
   "execution_count": 153,
   "id": "947a0cf8",
   "metadata": {},
   "outputs": [
    {
     "data": {
      "text/plain": [
       "45.0"
      ]
     },
     "execution_count": 153,
     "metadata": {},
     "output_type": "execute_result"
    }
   ],
   "source": [
    "arr_34.mean()"
   ]
  },
  {
   "cell_type": "code",
   "execution_count": 154,
   "id": "b171b760",
   "metadata": {},
   "outputs": [],
   "source": [
    "# lets get std value from array"
   ]
  },
  {
   "cell_type": "code",
   "execution_count": 155,
   "id": "e10fc32d",
   "metadata": {},
   "outputs": [
    {
     "data": {
      "text/plain": [
       "28.722813232690143"
      ]
     },
     "execution_count": 155,
     "metadata": {},
     "output_type": "execute_result"
    }
   ],
   "source": [
    "arr_34.std()"
   ]
  },
  {
   "cell_type": "code",
   "execution_count": 156,
   "id": "153b852c",
   "metadata": {},
   "outputs": [],
   "source": [
    "# to get location of max,min,mean,std values from array we use argmax,argmin,argmean,argstd"
   ]
  },
  {
   "cell_type": "code",
   "execution_count": 157,
   "id": "3cdd8043",
   "metadata": {},
   "outputs": [
    {
     "data": {
      "text/plain": [
       "0"
      ]
     },
     "execution_count": 157,
     "metadata": {},
     "output_type": "execute_result"
    }
   ],
   "source": [
    "arr_34.argmin()"
   ]
  },
  {
   "cell_type": "code",
   "execution_count": 158,
   "id": "6455c8c0",
   "metadata": {},
   "outputs": [
    {
     "data": {
      "text/plain": [
       "9"
      ]
     },
     "execution_count": 158,
     "metadata": {},
     "output_type": "execute_result"
    }
   ],
   "source": [
    "arr_34.argmax()"
   ]
  },
  {
   "cell_type": "code",
   "execution_count": 162,
   "id": "88b185dd",
   "metadata": {},
   "outputs": [],
   "source": [
    "# to get shape from array use np.shape"
   ]
  },
  {
   "cell_type": "code",
   "execution_count": 163,
   "id": "20852f31",
   "metadata": {},
   "outputs": [
    {
     "data": {
      "text/plain": [
       "(2, 5)"
      ]
     },
     "execution_count": 163,
     "metadata": {},
     "output_type": "execute_result"
    }
   ],
   "source": [
    "arr_34.shape"
   ]
  },
  {
   "cell_type": "code",
   "execution_count": 164,
   "id": "4c36f670",
   "metadata": {},
   "outputs": [
    {
     "data": {
      "text/plain": [
       "(20,)"
      ]
     },
     "execution_count": 164,
     "metadata": {},
     "output_type": "execute_result"
    }
   ],
   "source": [
    "arr_100.shape"
   ]
  },
  {
   "cell_type": "code",
   "execution_count": 168,
   "id": "da623d93",
   "metadata": {},
   "outputs": [],
   "source": [
    "arr_45 = np.arange(1,100,5)"
   ]
  },
  {
   "cell_type": "code",
   "execution_count": 169,
   "id": "86d3cbd7",
   "metadata": {},
   "outputs": [
    {
     "data": {
      "text/plain": [
       "array([ 1,  6, 11, 16, 21, 26, 31, 36, 41, 46, 51, 56, 61, 66, 71, 76, 81,\n",
       "       86, 91, 96])"
      ]
     },
     "execution_count": 169,
     "metadata": {},
     "output_type": "execute_result"
    }
   ],
   "source": [
    "arr_45\n"
   ]
  },
  {
   "cell_type": "code",
   "execution_count": 173,
   "id": "d12c84de",
   "metadata": {},
   "outputs": [],
   "source": [
    "re_arr = arr_45.reshape(4,5)"
   ]
  },
  {
   "cell_type": "code",
   "execution_count": 174,
   "id": "763f9cdd",
   "metadata": {},
   "outputs": [
    {
     "data": {
      "text/plain": [
       "array([[ 1,  6, 11, 16, 21],\n",
       "       [26, 31, 36, 41, 46],\n",
       "       [51, 56, 61, 66, 71],\n",
       "       [76, 81, 86, 91, 96]])"
      ]
     },
     "execution_count": 174,
     "metadata": {},
     "output_type": "execute_result"
    }
   ],
   "source": [
    "re_arr"
   ]
  },
  {
   "cell_type": "code",
   "execution_count": 175,
   "id": "22c0e40b",
   "metadata": {},
   "outputs": [
    {
     "data": {
      "text/plain": [
       "(4, 5)"
      ]
     },
     "execution_count": 175,
     "metadata": {},
     "output_type": "execute_result"
    }
   ],
   "source": [
    "re_arr.shape"
   ]
  },
  {
   "cell_type": "markdown",
   "id": "5f535612",
   "metadata": {},
   "source": [
    "# to get dataype from array use np.dtypes"
   ]
  },
  {
   "cell_type": "code",
   "execution_count": 179,
   "id": "7b3f6064",
   "metadata": {},
   "outputs": [
    {
     "data": {
      "text/plain": [
       "dtype('int32')"
      ]
     },
     "execution_count": 179,
     "metadata": {},
     "output_type": "execute_result"
    }
   ],
   "source": [
    "arr_100.dtype"
   ]
  },
  {
   "cell_type": "code",
   "execution_count": 180,
   "id": "e5f3161f",
   "metadata": {},
   "outputs": [
    {
     "data": {
      "text/plain": [
       "dtype('int32')"
      ]
     },
     "execution_count": 180,
     "metadata": {},
     "output_type": "execute_result"
    }
   ],
   "source": [
    "arr_34.dtype"
   ]
  }
 ],
 "metadata": {
  "kernelspec": {
   "display_name": "Python 3 (ipykernel)",
   "language": "python",
   "name": "python3"
  },
  "language_info": {
   "codemirror_mode": {
    "name": "ipython",
    "version": 3
   },
   "file_extension": ".py",
   "mimetype": "text/x-python",
   "name": "python",
   "nbconvert_exporter": "python",
   "pygments_lexer": "ipython3",
   "version": "3.11.5"
  }
 },
 "nbformat": 4,
 "nbformat_minor": 5
}
