{
 "cells": [
  {
   "cell_type": "code",
   "execution_count": 1,
   "id": "a7617fce",
   "metadata": {},
   "outputs": [],
   "source": [
    "import numpy as np"
   ]
  },
  {
   "cell_type": "code",
   "execution_count": 2,
   "id": "c313e217",
   "metadata": {},
   "outputs": [],
   "source": [
    "# lets craete array"
   ]
  },
  {
   "cell_type": "code",
   "execution_count": 3,
   "id": "52d71f74",
   "metadata": {},
   "outputs": [],
   "source": [
    "arr = np.arange(1,15,5)"
   ]
  },
  {
   "cell_type": "code",
   "execution_count": 4,
   "id": "ab2ca1c0",
   "metadata": {},
   "outputs": [
    {
     "data": {
      "text/plain": [
       "array([ 1,  6, 11])"
      ]
     },
     "execution_count": 4,
     "metadata": {},
     "output_type": "execute_result"
    }
   ],
   "source": [
    "arr"
   ]
  },
  {
   "cell_type": "code",
   "execution_count": 5,
   "id": "cdc62e1d",
   "metadata": {},
   "outputs": [],
   "source": [
    "arr_rand = np.random.randint(1,100,5)"
   ]
  },
  {
   "cell_type": "code",
   "execution_count": 6,
   "id": "d6fe0eb5",
   "metadata": {},
   "outputs": [
    {
     "data": {
      "text/plain": [
       "array([60, 31, 60, 81, 87])"
      ]
     },
     "execution_count": 6,
     "metadata": {},
     "output_type": "execute_result"
    }
   ],
   "source": [
    "arr_rand"
   ]
  },
  {
   "cell_type": "code",
   "execution_count": 7,
   "id": "d89fe413",
   "metadata": {},
   "outputs": [
    {
     "data": {
      "text/plain": [
       "31"
      ]
     },
     "execution_count": 7,
     "metadata": {},
     "output_type": "execute_result"
    }
   ],
   "source": [
    "arr_rand[1]"
   ]
  },
  {
   "cell_type": "code",
   "execution_count": 8,
   "id": "ab2dde37",
   "metadata": {},
   "outputs": [],
   "source": [
    "# we can get values from array like list indexing also."
   ]
  },
  {
   "cell_type": "code",
   "execution_count": 9,
   "id": "5aa699b1",
   "metadata": {},
   "outputs": [
    {
     "data": {
      "text/plain": [
       "11"
      ]
     },
     "execution_count": 9,
     "metadata": {},
     "output_type": "execute_result"
    }
   ],
   "source": [
    "arr[2]"
   ]
  },
  {
   "cell_type": "code",
   "execution_count": 10,
   "id": "1f4f370a",
   "metadata": {},
   "outputs": [],
   "source": [
    "arr_10 = np.arange(1,15)"
   ]
  },
  {
   "cell_type": "code",
   "execution_count": 11,
   "id": "5bc96b33",
   "metadata": {},
   "outputs": [
    {
     "data": {
      "text/plain": [
       "array([ 1,  2,  3,  4,  5,  6,  7,  8,  9, 10, 11, 12, 13, 14])"
      ]
     },
     "execution_count": 11,
     "metadata": {},
     "output_type": "execute_result"
    }
   ],
   "source": [
    "arr_10"
   ]
  },
  {
   "cell_type": "code",
   "execution_count": 12,
   "id": "8e01103d",
   "metadata": {},
   "outputs": [
    {
     "data": {
      "text/plain": [
       "array([ 2,  3,  4,  5,  6,  7,  8,  9, 10, 11, 12, 13, 14])"
      ]
     },
     "execution_count": 12,
     "metadata": {},
     "output_type": "execute_result"
    }
   ],
   "source": [
    "arr_10[1:]"
   ]
  },
  {
   "cell_type": "code",
   "execution_count": 13,
   "id": "6d92b54e",
   "metadata": {},
   "outputs": [],
   "source": [
    "# lets just say if we want to assign all values from array same value "
   ]
  },
  {
   "cell_type": "code",
   "execution_count": 14,
   "id": "17b17145",
   "metadata": {},
   "outputs": [],
   "source": [
    "arr_10[:] =7"
   ]
  },
  {
   "cell_type": "code",
   "execution_count": 15,
   "id": "c4f0810c",
   "metadata": {},
   "outputs": [
    {
     "data": {
      "text/plain": [
       "array([7, 7, 7, 7, 7, 7, 7, 7, 7, 7, 7, 7, 7, 7])"
      ]
     },
     "execution_count": 15,
     "metadata": {},
     "output_type": "execute_result"
    }
   ],
   "source": [
    "arr_10"
   ]
  },
  {
   "cell_type": "code",
   "execution_count": 16,
   "id": "c6402127",
   "metadata": {},
   "outputs": [],
   "source": [
    "# thats how we can assign same value to all array index."
   ]
  },
  {
   "cell_type": "code",
   "execution_count": 17,
   "id": "f1ff4d81",
   "metadata": {},
   "outputs": [],
   "source": [
    "arr_10[:5] = 21"
   ]
  },
  {
   "cell_type": "code",
   "execution_count": 18,
   "id": "96d7725f",
   "metadata": {},
   "outputs": [
    {
     "data": {
      "text/plain": [
       "array([21, 21, 21, 21, 21,  7,  7,  7,  7,  7,  7,  7,  7,  7])"
      ]
     },
     "execution_count": 18,
     "metadata": {},
     "output_type": "execute_result"
    }
   ],
   "source": [
    "arr_10"
   ]
  },
  {
   "cell_type": "code",
   "execution_count": 19,
   "id": "bfc77ea6",
   "metadata": {},
   "outputs": [],
   "source": [
    "# we can also assign this value to specific index of array"
   ]
  },
  {
   "cell_type": "code",
   "execution_count": 20,
   "id": "9d6afbd5",
   "metadata": {},
   "outputs": [],
   "source": [
    "# we can aslo assign some index values to new array like list"
   ]
  },
  {
   "cell_type": "code",
   "execution_count": 21,
   "id": "179f43af",
   "metadata": {},
   "outputs": [],
   "source": [
    "slice_arr = arr_10[1:6]"
   ]
  },
  {
   "cell_type": "code",
   "execution_count": 22,
   "id": "43395860",
   "metadata": {},
   "outputs": [
    {
     "data": {
      "text/plain": [
       "array([21, 21, 21, 21,  7])"
      ]
     },
     "execution_count": 22,
     "metadata": {},
     "output_type": "execute_result"
    }
   ],
   "source": [
    "slice_arr"
   ]
  },
  {
   "cell_type": "code",
   "execution_count": 23,
   "id": "66775a96",
   "metadata": {},
   "outputs": [],
   "source": [
    "# now if we cahnge this slice_arr value it will change arr_10 values as well"
   ]
  },
  {
   "cell_type": "code",
   "execution_count": 24,
   "id": "38f34f46",
   "metadata": {},
   "outputs": [],
   "source": [
    "# see \n",
    "slice_arr[:] = 121"
   ]
  },
  {
   "cell_type": "code",
   "execution_count": 25,
   "id": "825ad2a2",
   "metadata": {},
   "outputs": [
    {
     "data": {
      "text/plain": [
       "array([121, 121, 121, 121, 121])"
      ]
     },
     "execution_count": 25,
     "metadata": {},
     "output_type": "execute_result"
    }
   ],
   "source": [
    "slice_arr"
   ]
  },
  {
   "cell_type": "code",
   "execution_count": 26,
   "id": "7de8f2e0",
   "metadata": {},
   "outputs": [
    {
     "data": {
      "text/plain": [
       "array([ 21, 121, 121, 121, 121, 121,   7,   7,   7,   7,   7,   7,   7,\n",
       "         7])"
      ]
     },
     "execution_count": 26,
     "metadata": {},
     "output_type": "execute_result"
    }
   ],
   "source": [
    "arr_10"
   ]
  },
  {
   "cell_type": "code",
   "execution_count": 27,
   "id": "2f393e95",
   "metadata": {},
   "outputs": [],
   "source": [
    "# so we can change value of this array by only first copying array into some other variable."
   ]
  },
  {
   "cell_type": "code",
   "execution_count": 33,
   "id": "a8208c4d",
   "metadata": {},
   "outputs": [],
   "source": [
    "nre_arr = arr_10.copy()"
   ]
  },
  {
   "cell_type": "code",
   "execution_count": 34,
   "id": "260b312c",
   "metadata": {},
   "outputs": [
    {
     "data": {
      "text/plain": [
       "array([21, 34, 34, 34, 34, 34,  7,  7,  7,  7,  7,  7,  7,  7])"
      ]
     },
     "execution_count": 34,
     "metadata": {},
     "output_type": "execute_result"
    }
   ],
   "source": [
    "nre_arr"
   ]
  },
  {
   "cell_type": "code",
   "execution_count": 38,
   "id": "bd7c5f6f",
   "metadata": {},
   "outputs": [],
   "source": [
    "nre_arr[1:6] = 43"
   ]
  },
  {
   "cell_type": "code",
   "execution_count": 39,
   "id": "7a678515",
   "metadata": {},
   "outputs": [
    {
     "data": {
      "text/plain": [
       "array([21, 43, 43, 43, 43, 43,  7,  7,  7,  7,  7,  7,  7,  7])"
      ]
     },
     "execution_count": 39,
     "metadata": {},
     "output_type": "execute_result"
    }
   ],
   "source": [
    "nre_arr"
   ]
  },
  {
   "cell_type": "code",
   "execution_count": 40,
   "id": "66d0e5c0",
   "metadata": {},
   "outputs": [
    {
     "data": {
      "text/plain": [
       "array([21, 34, 34, 34, 34, 34,  7,  7,  7,  7,  7,  7,  7,  7])"
      ]
     },
     "execution_count": 40,
     "metadata": {},
     "output_type": "execute_result"
    }
   ],
   "source": [
    "arr_10"
   ]
  },
  {
   "cell_type": "code",
   "execution_count": 41,
   "id": "69554b97",
   "metadata": {},
   "outputs": [],
   "source": [
    "# see thats how we can change value of duplicate array by copying original array to it."
   ]
  },
  {
   "cell_type": "markdown",
   "id": "2e8246b1",
   "metadata": {},
   "source": [
    "# now Lets work with 2D array."
   ]
  },
  {
   "cell_type": "code",
   "execution_count": 44,
   "id": "bcfd69c0",
   "metadata": {},
   "outputs": [],
   "source": [
    "arr_2d = np.array([[1,2,3],[4,5,6],[7,8,9]])"
   ]
  },
  {
   "cell_type": "code",
   "execution_count": 45,
   "id": "165da8d1",
   "metadata": {},
   "outputs": [
    {
     "data": {
      "text/plain": [
       "array([[1, 2, 3],\n",
       "       [4, 5, 6],\n",
       "       [7, 8, 9]])"
      ]
     },
     "execution_count": 45,
     "metadata": {},
     "output_type": "execute_result"
    }
   ],
   "source": [
    "arr_2d"
   ]
  },
  {
   "cell_type": "code",
   "execution_count": 46,
   "id": "c71ea071",
   "metadata": {},
   "outputs": [],
   "source": [
    "# now it is 2d array. so we can get value by indexing"
   ]
  },
  {
   "cell_type": "code",
   "execution_count": 47,
   "id": "b7afdecb",
   "metadata": {},
   "outputs": [
    {
     "data": {
      "text/plain": [
       "1"
      ]
     },
     "execution_count": 47,
     "metadata": {},
     "output_type": "execute_result"
    }
   ],
   "source": [
    "arr_2d[0][0] # [0]--->First row,\n",
    "             # [0]--->First Column"
   ]
  },
  {
   "cell_type": "code",
   "execution_count": 48,
   "id": "03c2507d",
   "metadata": {},
   "outputs": [
    {
     "data": {
      "text/plain": [
       "6"
      ]
     },
     "execution_count": 48,
     "metadata": {},
     "output_type": "execute_result"
    }
   ],
   "source": [
    "# now to get value of 2nd row 3rd column.\n",
    "arr_2d[1][2]"
   ]
  },
  {
   "cell_type": "code",
   "execution_count": 51,
   "id": "f8f294b3",
   "metadata": {},
   "outputs": [],
   "source": [
    "# get value of 1 column and 2nd row"
   ]
  },
  {
   "cell_type": "code",
   "execution_count": 52,
   "id": "e0a7b4d2",
   "metadata": {},
   "outputs": [
    {
     "data": {
      "text/plain": [
       "4"
      ]
     },
     "execution_count": 52,
     "metadata": {},
     "output_type": "execute_result"
    }
   ],
   "source": [
    "arr_2d[1][0]"
   ]
  },
  {
   "cell_type": "code",
   "execution_count": 53,
   "id": "8f66575d",
   "metadata": {},
   "outputs": [],
   "source": [
    "# Now to get entire 1st column we can just slice it like list."
   ]
  },
  {
   "cell_type": "code",
   "execution_count": 57,
   "id": "00b0a977",
   "metadata": {},
   "outputs": [
    {
     "data": {
      "text/plain": [
       "array([4, 5, 6])"
      ]
     },
     "execution_count": 57,
     "metadata": {},
     "output_type": "execute_result"
    }
   ],
   "source": [
    "# 2nd row\n",
    "arr_2d[1]"
   ]
  },
  {
   "cell_type": "code",
   "execution_count": 58,
   "id": "851a7b0e",
   "metadata": {},
   "outputs": [
    {
     "data": {
      "text/plain": [
       "array([7, 8, 9])"
      ]
     },
     "execution_count": 58,
     "metadata": {},
     "output_type": "execute_result"
    }
   ],
   "source": [
    "# 3rd row\n",
    "arr_2d[2]"
   ]
  },
  {
   "cell_type": "code",
   "execution_count": 59,
   "id": "8f2fa21e",
   "metadata": {},
   "outputs": [
    {
     "data": {
      "text/plain": [
       "array([1, 2, 3])"
      ]
     },
     "execution_count": 59,
     "metadata": {},
     "output_type": "execute_result"
    }
   ],
   "source": [
    "# 1st row\n",
    "arr_2d[0]"
   ]
  },
  {
   "cell_type": "code",
   "execution_count": 60,
   "id": "340217f2",
   "metadata": {},
   "outputs": [],
   "source": [
    "# now lets just say we want value till 3nd row but from 2nd column"
   ]
  },
  {
   "cell_type": "code",
   "execution_count": 62,
   "id": "41d2a6d2",
   "metadata": {},
   "outputs": [
    {
     "data": {
      "text/plain": [
       "array([[2, 3],\n",
       "       [5, 6]])"
      ]
     },
     "execution_count": 62,
     "metadata": {},
     "output_type": "execute_result"
    }
   ],
   "source": [
    "# we can do that by this\n",
    "arr_2d[:2,1:] # ----> [:2] till 3rd row but --->[1:] from 2nd column"
   ]
  },
  {
   "cell_type": "code",
   "execution_count": 63,
   "id": "87a729a9",
   "metadata": {},
   "outputs": [],
   "source": [
    "# now lets get value from 1st row to 2nd row but from just first column "
   ]
  },
  {
   "cell_type": "code",
   "execution_count": 65,
   "id": "e3fd85e4",
   "metadata": {},
   "outputs": [
    {
     "data": {
      "text/plain": [
       "array([[2, 3]])"
      ]
     },
     "execution_count": 65,
     "metadata": {},
     "output_type": "execute_result"
    }
   ],
   "source": [
    "arr_2d[:1,1:]"
   ]
  },
  {
   "cell_type": "code",
   "execution_count": 66,
   "id": "8f57eea9",
   "metadata": {},
   "outputs": [],
   "source": [
    "# get value till 2nd row"
   ]
  },
  {
   "cell_type": "code",
   "execution_count": 69,
   "id": "8ee6c58c",
   "metadata": {},
   "outputs": [
    {
     "data": {
      "text/plain": [
       "array([[1, 2, 3]])"
      ]
     },
     "execution_count": 69,
     "metadata": {},
     "output_type": "execute_result"
    }
   ],
   "source": [
    "arr_2d[:1] #---> 1 in row mean 1st row"
   ]
  },
  {
   "cell_type": "code",
   "execution_count": 70,
   "id": "853787a4",
   "metadata": {},
   "outputs": [
    {
     "data": {
      "text/plain": [
       "array([[1, 2, 3],\n",
       "       [4, 5, 6]])"
      ]
     },
     "execution_count": 70,
     "metadata": {},
     "output_type": "execute_result"
    }
   ],
   "source": [
    "arr_2d[:2] # value till 2nd row"
   ]
  },
  {
   "cell_type": "code",
   "execution_count": 71,
   "id": "74945a5f",
   "metadata": {},
   "outputs": [],
   "source": [
    "# lets get array with value till 1 to 10"
   ]
  },
  {
   "cell_type": "code",
   "execution_count": 72,
   "id": "e3adae37",
   "metadata": {},
   "outputs": [],
   "source": [
    "arr_101 = np.arange(1,11)"
   ]
  },
  {
   "cell_type": "code",
   "execution_count": 73,
   "id": "df31f168",
   "metadata": {},
   "outputs": [
    {
     "data": {
      "text/plain": [
       "array([ 1,  2,  3,  4,  5,  6,  7,  8,  9, 10])"
      ]
     },
     "execution_count": 73,
     "metadata": {},
     "output_type": "execute_result"
    }
   ],
   "source": [
    "arr_101"
   ]
  },
  {
   "cell_type": "code",
   "execution_count": 76,
   "id": "364a993c",
   "metadata": {},
   "outputs": [],
   "source": [
    "# array resized to 5 rows and 2 columns.\n",
    "arr_resized = arr_101.reshape(5,2)"
   ]
  },
  {
   "cell_type": "code",
   "execution_count": 77,
   "id": "695a60b6",
   "metadata": {},
   "outputs": [
    {
     "data": {
      "text/plain": [
       "array([[ 1,  2],\n",
       "       [ 3,  4],\n",
       "       [ 5,  6],\n",
       "       [ 7,  8],\n",
       "       [ 9, 10]])"
      ]
     },
     "execution_count": 77,
     "metadata": {},
     "output_type": "execute_result"
    }
   ],
   "source": [
    "arr_resized"
   ]
  },
  {
   "cell_type": "code",
   "execution_count": 78,
   "id": "e367646d",
   "metadata": {},
   "outputs": [],
   "source": [
    "# we can also use this array to do some comparative opertaions"
   ]
  },
  {
   "cell_type": "code",
   "execution_count": 79,
   "id": "f6e9fa3c",
   "metadata": {},
   "outputs": [],
   "source": [
    "# lets see if values in forst row grater than 5 or not."
   ]
  },
  {
   "cell_type": "code",
   "execution_count": 80,
   "id": "5b02f886",
   "metadata": {},
   "outputs": [
    {
     "data": {
      "text/plain": [
       "array([False, False])"
      ]
     },
     "execution_count": 80,
     "metadata": {},
     "output_type": "execute_result"
    }
   ],
   "source": [
    "arr_resized[1]>5"
   ]
  },
  {
   "cell_type": "code",
   "execution_count": 82,
   "id": "9c6ede9a",
   "metadata": {},
   "outputs": [
    {
     "data": {
      "text/plain": [
       "array([[False, False],\n",
       "       [False, False],\n",
       "       [False,  True],\n",
       "       [ True,  True]])"
      ]
     },
     "execution_count": 82,
     "metadata": {},
     "output_type": "execute_result"
    }
   ],
   "source": [
    "arr_resized[:4]>5"
   ]
  },
  {
   "cell_type": "code",
   "execution_count": 83,
   "id": "caf4a9dd",
   "metadata": {},
   "outputs": [],
   "source": [
    "# that show we can do compartaive operations."
   ]
  },
  {
   "cell_type": "code",
   "execution_count": 84,
   "id": "f702aeaa",
   "metadata": {},
   "outputs": [],
   "source": [
    "# lets get value from array"
   ]
  },
  {
   "cell_type": "code",
   "execution_count": 85,
   "id": "5ca5c2c5",
   "metadata": {},
   "outputs": [
    {
     "data": {
      "text/plain": [
       "array([ 6,  7,  8,  9, 10])"
      ]
     },
     "execution_count": 85,
     "metadata": {},
     "output_type": "execute_result"
    }
   ],
   "source": [
    "arr_101[arr_101>5]"
   ]
  },
  {
   "cell_type": "code",
   "execution_count": 86,
   "id": "4957cfbe",
   "metadata": {},
   "outputs": [],
   "source": [
    "# this will return value from array which is grater than 5"
   ]
  },
  {
   "cell_type": "code",
   "execution_count": 87,
   "id": "1f4f5a5e",
   "metadata": {},
   "outputs": [],
   "source": [
    "# lets get values less tah 7 from array"
   ]
  },
  {
   "cell_type": "code",
   "execution_count": 88,
   "id": "52109186",
   "metadata": {},
   "outputs": [
    {
     "data": {
      "text/plain": [
       "array([1, 2, 3, 4, 5, 6])"
      ]
     },
     "execution_count": 88,
     "metadata": {},
     "output_type": "execute_result"
    }
   ],
   "source": [
    "arr_101[arr_101<7]"
   ]
  },
  {
   "cell_type": "code",
   "execution_count": 89,
   "id": "968a2cd0",
   "metadata": {},
   "outputs": [],
   "source": [
    "# lets create new array and reshape it at instant."
   ]
  },
  {
   "cell_type": "code",
   "execution_count": 94,
   "id": "bea7b936",
   "metadata": {},
   "outputs": [],
   "source": [
    "# we craeted array with all 100 values with 5 rows and 20 columns.\n",
    "arr_1 = np.arange(100).reshape(5,20)"
   ]
  },
  {
   "cell_type": "code",
   "execution_count": 95,
   "id": "c8fca815",
   "metadata": {},
   "outputs": [
    {
     "data": {
      "text/plain": [
       "array([[ 0,  1,  2,  3,  4,  5,  6,  7,  8,  9, 10, 11, 12, 13, 14, 15,\n",
       "        16, 17, 18, 19],\n",
       "       [20, 21, 22, 23, 24, 25, 26, 27, 28, 29, 30, 31, 32, 33, 34, 35,\n",
       "        36, 37, 38, 39],\n",
       "       [40, 41, 42, 43, 44, 45, 46, 47, 48, 49, 50, 51, 52, 53, 54, 55,\n",
       "        56, 57, 58, 59],\n",
       "       [60, 61, 62, 63, 64, 65, 66, 67, 68, 69, 70, 71, 72, 73, 74, 75,\n",
       "        76, 77, 78, 79],\n",
       "       [80, 81, 82, 83, 84, 85, 86, 87, 88, 89, 90, 91, 92, 93, 94, 95,\n",
       "        96, 97, 98, 99]])"
      ]
     },
     "execution_count": 95,
     "metadata": {},
     "output_type": "execute_result"
    }
   ],
   "source": [
    "arr_1"
   ]
  },
  {
   "cell_type": "code",
   "execution_count": 97,
   "id": "a9baf26e",
   "metadata": {},
   "outputs": [],
   "source": [
    "# lets grab values from row 1 to 3 "
   ]
  },
  {
   "cell_type": "code",
   "execution_count": 99,
   "id": "f51af520",
   "metadata": {},
   "outputs": [
    {
     "data": {
      "text/plain": [
       "array([[ 0,  1,  2,  3,  4,  5,  6,  7,  8,  9, 10, 11, 12, 13, 14, 15,\n",
       "        16, 17, 18, 19],\n",
       "       [20, 21, 22, 23, 24, 25, 26, 27, 28, 29, 30, 31, 32, 33, 34, 35,\n",
       "        36, 37, 38, 39],\n",
       "       [40, 41, 42, 43, 44, 45, 46, 47, 48, 49, 50, 51, 52, 53, 54, 55,\n",
       "        56, 57, 58, 59]])"
      ]
     },
     "execution_count": 99,
     "metadata": {},
     "output_type": "execute_result"
    }
   ],
   "source": [
    "arr_1[0:3]"
   ]
  },
  {
   "cell_type": "code",
   "execution_count": 100,
   "id": "69814e16",
   "metadata": {},
   "outputs": [],
   "source": [
    "# lets get values from rows 1 to 2 and from column 6 to end"
   ]
  },
  {
   "cell_type": "code",
   "execution_count": 101,
   "id": "95be1509",
   "metadata": {},
   "outputs": [
    {
     "data": {
      "text/plain": [
       "array([[ 6,  7,  8,  9, 10, 11, 12, 13, 14, 15, 16, 17, 18, 19],\n",
       "       [26, 27, 28, 29, 30, 31, 32, 33, 34, 35, 36, 37, 38, 39]])"
      ]
     },
     "execution_count": 101,
     "metadata": {},
     "output_type": "execute_result"
    }
   ],
   "source": [
    "arr_1[0:2,6:]"
   ]
  },
  {
   "cell_type": "code",
   "execution_count": 102,
   "id": "61199943",
   "metadata": {},
   "outputs": [],
   "source": [
    "# this will give us value from row 1 and 2 and sim from col forward 6"
   ]
  },
  {
   "cell_type": "code",
   "execution_count": 103,
   "id": "07ec13c3",
   "metadata": {},
   "outputs": [
    {
     "data": {
      "text/plain": [
       "array([[50, 51, 52, 53, 54, 55, 56, 57, 58, 59],\n",
       "       [70, 71, 72, 73, 74, 75, 76, 77, 78, 79],\n",
       "       [90, 91, 92, 93, 94, 95, 96, 97, 98, 99]])"
      ]
     },
     "execution_count": 103,
     "metadata": {},
     "output_type": "execute_result"
    }
   ],
   "source": [
    "arr_1[2:,10:]"
   ]
  },
  {
   "cell_type": "code",
   "execution_count": 104,
   "id": "b191e843",
   "metadata": {},
   "outputs": [],
   "source": [
    "# this will give us value from 2nd row to all and  columns 10 to forward."
   ]
  },
  {
   "cell_type": "code",
   "execution_count": null,
   "id": "2622bbec",
   "metadata": {},
   "outputs": [],
   "source": []
  }
 ],
 "metadata": {
  "kernelspec": {
   "display_name": "Python 3 (ipykernel)",
   "language": "python",
   "name": "python3"
  },
  "language_info": {
   "codemirror_mode": {
    "name": "ipython",
    "version": 3
   },
   "file_extension": ".py",
   "mimetype": "text/x-python",
   "name": "python",
   "nbconvert_exporter": "python",
   "pygments_lexer": "ipython3",
   "version": "3.11.5"
  }
 },
 "nbformat": 4,
 "nbformat_minor": 5
}
