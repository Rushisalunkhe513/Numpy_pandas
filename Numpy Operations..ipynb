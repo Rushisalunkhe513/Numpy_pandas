{
 "cells": [
  {
   "cell_type": "code",
   "execution_count": 1,
   "id": "9f85a637",
   "metadata": {},
   "outputs": [],
   "source": [
    "import numpy as np"
   ]
  },
  {
   "cell_type": "markdown",
   "id": "b309109b",
   "metadata": {},
   "source": [
    "# Numpy Operations."
   ]
  },
  {
   "cell_type": "code",
   "execution_count": 2,
   "id": "c473f428",
   "metadata": {},
   "outputs": [],
   "source": [
    "# we will perform various operations here."
   ]
  },
  {
   "cell_type": "code",
   "execution_count": 3,
   "id": "e51f4bcb",
   "metadata": {},
   "outputs": [],
   "source": [
    "arr = np.arange(11)"
   ]
  },
  {
   "cell_type": "code",
   "execution_count": 4,
   "id": "d02d2c01",
   "metadata": {},
   "outputs": [
    {
     "data": {
      "text/plain": [
       "array([ 0,  1,  2,  3,  4,  5,  6,  7,  8,  9, 10])"
      ]
     },
     "execution_count": 4,
     "metadata": {},
     "output_type": "execute_result"
    }
   ],
   "source": [
    "arr"
   ]
  },
  {
   "cell_type": "code",
   "execution_count": 5,
   "id": "126a3639",
   "metadata": {},
   "outputs": [],
   "source": [
    "# we can add array to each other as well"
   ]
  },
  {
   "cell_type": "code",
   "execution_count": 6,
   "id": "6de12862",
   "metadata": {},
   "outputs": [],
   "source": [
    "arr_2 = arr+arr"
   ]
  },
  {
   "cell_type": "code",
   "execution_count": 7,
   "id": "8011fb5b",
   "metadata": {},
   "outputs": [
    {
     "data": {
      "text/plain": [
       "array([ 0,  2,  4,  6,  8, 10, 12, 14, 16, 18, 20])"
      ]
     },
     "execution_count": 7,
     "metadata": {},
     "output_type": "execute_result"
    }
   ],
   "source": [
    "arr_2"
   ]
  },
  {
   "cell_type": "code",
   "execution_count": 8,
   "id": "35fbed89",
   "metadata": {},
   "outputs": [],
   "source": [
    "# lets see for multiplication."
   ]
  },
  {
   "cell_type": "code",
   "execution_count": 9,
   "id": "7e7209d9",
   "metadata": {},
   "outputs": [
    {
     "data": {
      "text/plain": [
       "array([  0,   4,  16,  36,  64, 100, 144, 196, 256, 324, 400])"
      ]
     },
     "execution_count": 9,
     "metadata": {},
     "output_type": "execute_result"
    }
   ],
   "source": [
    "arr_2**2"
   ]
  },
  {
   "cell_type": "code",
   "execution_count": 10,
   "id": "02975a7c",
   "metadata": {},
   "outputs": [],
   "source": [
    "# This will give us square of each array value."
   ]
  },
  {
   "cell_type": "code",
   "execution_count": 11,
   "id": "32c6e4d8",
   "metadata": {},
   "outputs": [],
   "source": [
    "# lets see for division."
   ]
  },
  {
   "cell_type": "code",
   "execution_count": 12,
   "id": "0cf0de18",
   "metadata": {},
   "outputs": [
    {
     "data": {
      "text/plain": [
       "array([ 0,  1,  2,  3,  4,  5,  6,  7,  8,  9, 10], dtype=int32)"
      ]
     },
     "execution_count": 12,
     "metadata": {},
     "output_type": "execute_result"
    }
   ],
   "source": [
    "arr_2//2"
   ]
  },
  {
   "cell_type": "code",
   "execution_count": 14,
   "id": "102e611c",
   "metadata": {},
   "outputs": [
    {
     "data": {
      "text/plain": [
       "array([ 0,  2,  4,  6,  8, 10, 12, 14, 16, 18, 20])"
      ]
     },
     "execution_count": 14,
     "metadata": {},
     "output_type": "execute_result"
    }
   ],
   "source": [
    "arr_2"
   ]
  },
  {
   "cell_type": "code",
   "execution_count": 15,
   "id": "750d5f86",
   "metadata": {},
   "outputs": [],
   "source": [
    "sqaure_arr = arr_2**2"
   ]
  },
  {
   "cell_type": "code",
   "execution_count": 16,
   "id": "53161902",
   "metadata": {},
   "outputs": [
    {
     "data": {
      "text/plain": [
       "array([  0,   4,  16,  36,  64, 100, 144, 196, 256, 324, 400])"
      ]
     },
     "execution_count": 16,
     "metadata": {},
     "output_type": "execute_result"
    }
   ],
   "source": [
    "sqaure_arr"
   ]
  },
  {
   "cell_type": "code",
   "execution_count": 17,
   "id": "73857ebb",
   "metadata": {},
   "outputs": [],
   "source": [
    "# also add two array with each other."
   ]
  },
  {
   "cell_type": "code",
   "execution_count": 18,
   "id": "47788ac6",
   "metadata": {},
   "outputs": [],
   "source": [
    "add_array = sqaure_arr+arr_2"
   ]
  },
  {
   "cell_type": "code",
   "execution_count": 19,
   "id": "1332101d",
   "metadata": {},
   "outputs": [
    {
     "data": {
      "text/plain": [
       "array([  0,   6,  20,  42,  72, 110, 156, 210, 272, 342, 420])"
      ]
     },
     "execution_count": 19,
     "metadata": {},
     "output_type": "execute_result"
    }
   ],
   "source": [
    "add_array"
   ]
  },
  {
   "cell_type": "code",
   "execution_count": 20,
   "id": "7de803b1",
   "metadata": {},
   "outputs": [],
   "source": [
    "# we can also add certain value to all values in array."
   ]
  },
  {
   "cell_type": "code",
   "execution_count": 21,
   "id": "116c6012",
   "metadata": {},
   "outputs": [],
   "source": [
    "sqaure_arr_3 = sqaure_arr+3"
   ]
  },
  {
   "cell_type": "code",
   "execution_count": 22,
   "id": "4e565c5e",
   "metadata": {},
   "outputs": [
    {
     "data": {
      "text/plain": [
       "array([  3,   7,  19,  39,  67, 103, 147, 199, 259, 327, 403])"
      ]
     },
     "execution_count": 22,
     "metadata": {},
     "output_type": "execute_result"
    }
   ],
   "source": [
    "sqaure_arr_3"
   ]
  },
  {
   "cell_type": "code",
   "execution_count": 23,
   "id": "4a1250e0",
   "metadata": {},
   "outputs": [],
   "source": [
    "# sim we can substract value from all array values."
   ]
  },
  {
   "cell_type": "code",
   "execution_count": 24,
   "id": "9881a627",
   "metadata": {},
   "outputs": [],
   "source": [
    "# lets see for division."
   ]
  },
  {
   "cell_type": "code",
   "execution_count": 25,
   "id": "1a04d425",
   "metadata": {},
   "outputs": [
    {
     "name": "stderr",
     "output_type": "stream",
     "text": [
      "C:\\Users\\91916\\AppData\\Local\\Temp\\ipykernel_30192\\3559639798.py:1: RuntimeWarning: invalid value encountered in divide\n",
      "  arr_div = arr/arr\n"
     ]
    }
   ],
   "source": [
    "arr_div = arr/arr"
   ]
  },
  {
   "cell_type": "code",
   "execution_count": 26,
   "id": "a2869044",
   "metadata": {},
   "outputs": [
    {
     "data": {
      "text/plain": [
       "array([nan,  1.,  1.,  1.,  1.,  1.,  1.,  1.,  1.,  1.,  1.])"
      ]
     },
     "execution_count": 26,
     "metadata": {},
     "output_type": "execute_result"
    }
   ],
   "source": [
    "arr_div"
   ]
  },
  {
   "cell_type": "code",
   "execution_count": 27,
   "id": "e9176acd",
   "metadata": {},
   "outputs": [],
   "source": [
    "# nan will be given when 0 will be dividing to 0."
   ]
  },
  {
   "cell_type": "code",
   "execution_count": 28,
   "id": "d5c61ba4",
   "metadata": {},
   "outputs": [],
   "source": [
    "# similarly if we divide anything by zero it will give us infinity"
   ]
  },
  {
   "cell_type": "code",
   "execution_count": 29,
   "id": "a424c64e",
   "metadata": {},
   "outputs": [
    {
     "name": "stderr",
     "output_type": "stream",
     "text": [
      "C:\\Users\\91916\\AppData\\Local\\Temp\\ipykernel_30192\\255282349.py:1: RuntimeWarning: divide by zero encountered in divide\n",
      "  1/arr\n"
     ]
    },
    {
     "data": {
      "text/plain": [
       "array([       inf, 1.        , 0.5       , 0.33333333, 0.25      ,\n",
       "       0.2       , 0.16666667, 0.14285714, 0.125     , 0.11111111,\n",
       "       0.1       ])"
      ]
     },
     "execution_count": 29,
     "metadata": {},
     "output_type": "execute_result"
    }
   ],
   "source": [
    "1/arr"
   ]
  },
  {
   "cell_type": "code",
   "execution_count": 30,
   "id": "11f4a6fa",
   "metadata": {},
   "outputs": [],
   "source": [
    "# we can also get square root values from array."
   ]
  },
  {
   "cell_type": "code",
   "execution_count": 31,
   "id": "9ee6c17a",
   "metadata": {},
   "outputs": [],
   "source": [
    "arr_sqrt = np.sqrt(sqaure_arr_3)"
   ]
  },
  {
   "cell_type": "code",
   "execution_count": 32,
   "id": "a8888eb1",
   "metadata": {},
   "outputs": [
    {
     "data": {
      "text/plain": [
       "array([ 1.73205081,  2.64575131,  4.35889894,  6.244998  ,  8.18535277,\n",
       "       10.14889157, 12.12435565, 14.10673598, 16.09347694, 18.08314132,\n",
       "       20.0748599 ])"
      ]
     },
     "execution_count": 32,
     "metadata": {},
     "output_type": "execute_result"
    }
   ],
   "source": [
    "arr_sqrt"
   ]
  },
  {
   "cell_type": "code",
   "execution_count": 33,
   "id": "c878aba2",
   "metadata": {},
   "outputs": [],
   "source": [
    "# we will get sqrt by np.sqrt"
   ]
  },
  {
   "cell_type": "code",
   "execution_count": 34,
   "id": "6092c1b7",
   "metadata": {},
   "outputs": [],
   "source": [
    "# we can also get exponential value by np.exp"
   ]
  },
  {
   "cell_type": "code",
   "execution_count": 35,
   "id": "92c22072",
   "metadata": {},
   "outputs": [],
   "source": [
    "exp_array = np.exp(sqaure_arr_3)"
   ]
  },
  {
   "cell_type": "code",
   "execution_count": 36,
   "id": "c560c9cc",
   "metadata": {},
   "outputs": [
    {
     "data": {
      "text/plain": [
       "array([2.00855369e+001, 1.09663316e+003, 1.78482301e+008, 8.65934004e+016,\n",
       "       1.25236317e+029, 5.39922761e+044, 6.93887142e+063, 2.65828719e+086,\n",
       "       3.03578362e+112, 1.03346455e+142, 1.04876022e+175])"
      ]
     },
     "execution_count": 36,
     "metadata": {},
     "output_type": "execute_result"
    }
   ],
   "source": [
    "exp_array"
   ]
  },
  {
   "cell_type": "code",
   "execution_count": null,
   "id": "04cb1772",
   "metadata": {},
   "outputs": [],
   "source": []
  }
 ],
 "metadata": {
  "kernelspec": {
   "display_name": "Python 3 (ipykernel)",
   "language": "python",
   "name": "python3"
  },
  "language_info": {
   "codemirror_mode": {
    "name": "ipython",
    "version": 3
   },
   "file_extension": ".py",
   "mimetype": "text/x-python",
   "name": "python",
   "nbconvert_exporter": "python",
   "pygments_lexer": "ipython3",
   "version": "3.11.5"
  }
 },
 "nbformat": 4,
 "nbformat_minor": 5
}
